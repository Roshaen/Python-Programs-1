{
  "nbformat": 4,
  "nbformat_minor": 0,
  "metadata": {
    "colab": {
      "name": "WEB SCRAPING (Trump's_Lies).ipynb",
      "provenance": [],
      "collapsed_sections": [],
      "authorship_tag": "ABX9TyPDEkzXWzNhiiAknyvwBI2f",
      "include_colab_link": true
    },
    "kernelspec": {
      "name": "python3",
      "display_name": "Python 3"
    },
    "language_info": {
      "name": "python"
    }
  },
  "cells": [
    {
      "cell_type": "markdown",
      "metadata": {
        "id": "view-in-github",
        "colab_type": "text"
      },
      "source": [
        "<a href=\"https://colab.research.google.com/github/Swayms-stack/Python-Programs/blob/master/WEB_SCRAPING_(Trump's_Lies).ipynb\" target=\"_parent\"><img src=\"https://colab.research.google.com/assets/colab-badge.svg\" alt=\"Open In Colab\"/></a>"
      ]
    },
    {
      "cell_type": "markdown",
      "metadata": {
        "id": "mdwp4UbG4PH3"
      },
      "source": [
        "***READING THE WEB PAGE INTO PYTHON***"
      ]
    },
    {
      "cell_type": "code",
      "metadata": {
        "id": "Bg7u0MID4TST"
      },
      "source": [
        "import requests\n",
        "# Fetch the webpage from the URL & store it in a response object (r)\n",
        "r = requests.get ('https://www.nytimes.com/interactive/2017/06/23/opinion/trumps-lies.html')"
      ],
      "execution_count": 1,
      "outputs": []
    },
    {
      "cell_type": "code",
      "metadata": {
        "colab": {
          "base_uri": "https://localhost:8080/"
        },
        "id": "VlJYjchf4inE",
        "outputId": "488074ef-9deb-413d-c7f3-d480244e56ad"
      },
      "source": [
        "# Print the 1st 500 characters of the URL\n",
        "print (r.text [0:500])"
      ],
      "execution_count": 2,
      "outputs": [
        {
          "output_type": "stream",
          "text": [
            "<!DOCTYPE html>\n",
            "<!--[if (gt IE 9)|!(IE)]> <!--><html lang=\"en\" class=\"no-js page-interactive section-opinion page-theme-standard tone-opinion page-interactive-default limit-small layout-xlarge app-interactive\" itemid=\"https://www.nytimes.com/interactive/2017/06/23/opinion/trumps-lies.html\" itemtype=\"http://schema.org/NewsArticle\" itemscope xmlns:og=\"http://opengraphprotocol.org/schema/\"><!--<![endif]-->\n",
            "<!--[if IE 9]> <html lang=\"en\" class=\"no-js ie9 lt-ie10 page-interactive section-opinion page\n"
          ],
          "name": "stdout"
        }
      ]
    },
    {
      "cell_type": "markdown",
      "metadata": {
        "id": "6XNOaycn5zmP"
      },
      "source": [
        "***PARSE THE HTML USING BEAUTIFUL SOUP LIBRARY***"
      ]
    },
    {
      "cell_type": "code",
      "metadata": {
        "id": "0Sx0OgG755X-"
      },
      "source": [
        "from bs4 import BeautifulSoup\n",
        "# Parse the HTML stored in the object text into a special object called soup\n",
        "soup = BeautifulSoup (r.text, 'html.parser') "
      ],
      "execution_count": 3,
      "outputs": []
    },
    {
      "cell_type": "markdown",
      "metadata": {
        "id": "XKbcL6yk6nbk"
      },
      "source": [
        "***COLLECTING ALL THE RECORDS***"
      ]
    },
    {
      "cell_type": "code",
      "metadata": {
        "colab": {
          "base_uri": "https://localhost:8080/",
          "height": 35
        },
        "id": "kj6qzPSP6qmc",
        "outputId": "63deb043-fe9d-4660-afa8-8ec80e05b3c5"
      },
      "source": [
        "# FORMAT OF EACH RECORD\n",
        "# This is the pattern that allows us to build our dataset\n",
        "'''<span class = \"short-decs\"><strong> DATE </strong> LIE <span class = \"short-truth\">\n",
        "<a href = \"URL\"> EXPLANATION </a></span></span>'''"
      ],
      "execution_count": 4,
      "outputs": [
        {
          "output_type": "execute_result",
          "data": {
            "application/vnd.google.colaboratory.intrinsic+json": {
              "type": "string"
            },
            "text/plain": [
              "'<span class = \"short-decs\"><strong> DATE </strong> LIE <span class = \"short-truth\">\\n<a href = \"URL\"> EXPLANATION </a></span></span>'"
            ]
          },
          "metadata": {
            "tags": []
          },
          "execution_count": 4
        }
      ]
    },
    {
      "cell_type": "code",
      "metadata": {
        "id": "2-zVJqJF7X3r"
      },
      "source": [
        "# Find all the records using Beautiful Soup\n",
        "# This code searches the soup object for all span tags with the attribute class = \"short-decs\"\n",
        "# A special Beautiful Soup object is returned called results set containing the search results"
      ],
      "execution_count": 5,
      "outputs": []
    },
    {
      "cell_type": "code",
      "metadata": {
        "id": "4CYjwVGu-iOd"
      },
      "source": [
        "results = soup.find_all('span', attrs={'class':'short-desc'})"
      ],
      "execution_count": 6,
      "outputs": []
    },
    {
      "cell_type": "code",
      "metadata": {
        "colab": {
          "base_uri": "https://localhost:8080/"
        },
        "id": "vNI7puJb91H0",
        "outputId": "1024122a-0ec8-4539-b74e-f5a7140e73ed"
      },
      "source": [
        "# results acts like a Python list\n",
        "len (results)"
      ],
      "execution_count": 7,
      "outputs": [
        {
          "output_type": "execute_result",
          "data": {
            "text/plain": [
              "180"
            ]
          },
          "metadata": {
            "tags": []
          },
          "execution_count": 7
        }
      ]
    },
    {
      "cell_type": "code",
      "metadata": {
        "colab": {
          "base_uri": "https://localhost:8080/"
        },
        "id": "FEbdcG-D_kkl",
        "outputId": "54ab521a-4bab-438c-c8f8-47c5f4365f94"
      },
      "source": [
        "print(\"Title of the website is : \")\n",
        "for title in soup.find_all('title'):\n",
        "    print(title.get_text())"
      ],
      "execution_count": 8,
      "outputs": [
        {
          "output_type": "stream",
          "text": [
            "Title of the website is : \n",
            "Opinion | President Trump’s Lies, the Definitive List - The New York Times\n"
          ],
          "name": "stdout"
        }
      ]
    },
    {
      "cell_type": "code",
      "metadata": {
        "colab": {
          "base_uri": "https://localhost:8080/"
        },
        "id": "AptPN5JO96w4",
        "outputId": "e837aa5a-e249-449f-977c-68d8bcef0632"
      },
      "source": [
        "# Slice the object like a list, in order to examine the first three results.\n",
        "results [0:3]"
      ],
      "execution_count": 9,
      "outputs": [
        {
          "output_type": "execute_result",
          "data": {
            "text/plain": [
              "[<span class=\"short-desc\"><strong>Jan. 21 </strong>“I wasn't a fan of Iraq. I didn't want to go into Iraq.” <span class=\"short-truth\"><a href=\"https://www.buzzfeed.com/andrewkaczynski/in-2002-donald-trump-said-he-supported-invading-iraq-on-the\" target=\"_blank\">(He was for an invasion before he was against it.)</a></span></span>,\n",
              " <span class=\"short-desc\"><strong>Jan. 21 </strong>“A reporter for Time magazine — and I have been on their cover 14 or 15 times. I think we have the all-time record in the history of Time magazine.” <span class=\"short-truth\"><a href=\"http://nation.time.com/2013/11/06/10-things-you-didnt-know-about-time/\" target=\"_blank\">(Trump was on the cover 11 times and Nixon appeared 55 times.)</a></span></span>,\n",
              " <span class=\"short-desc\"><strong>Jan. 23 </strong>“Between 3 million and 5 million illegal votes caused me to lose the popular vote.” <span class=\"short-truth\"><a href=\"https://www.nytimes.com/2017/01/23/us/politics/donald-trump-congress-democrats.html\" target=\"_blank\">(There's no evidence of illegal voting.)</a></span></span>]"
            ]
          },
          "metadata": {
            "tags": []
          },
          "execution_count": 9
        }
      ]
    },
    {
      "cell_type": "code",
      "metadata": {
        "colab": {
          "base_uri": "https://localhost:8080/"
        },
        "id": "rxlxIxMl-S6-",
        "outputId": "85b6bd0f-cd17-43ff-ae9c-96af5d364c6f"
      },
      "source": [
        "# Last result\n",
        "results [-1]"
      ],
      "execution_count": 10,
      "outputs": [
        {
          "output_type": "execute_result",
          "data": {
            "text/plain": [
              "<span class=\"short-desc\"><strong>Nov. 11 </strong>“I'd rather have him  – you know, work with him on the Ukraine than standing and arguing about whether or not  – because that whole thing was set up by the Democrats.” <span class=\"short-truth\"><a href=\"https://www.nytimes.com/interactive/2017/12/10/us/politics/trump-and-russia.html\" target=\"_blank\">(There is no evidence that Democrats \"set up\" Russian interference in the election.)</a></span></span>"
            ]
          },
          "metadata": {
            "tags": []
          },
          "execution_count": 10
        }
      ]
    },
    {
      "cell_type": "markdown",
      "metadata": {
        "id": "e57Z8R05_sWT"
      },
      "source": [
        "***EXTRACTING THE DATE***"
      ]
    },
    {
      "cell_type": "code",
      "metadata": {
        "colab": {
          "base_uri": "https://localhost:8080/"
        },
        "id": "TEuw-V-P_vmN",
        "outputId": "87893086-5d78-4b5d-de99-25334c969eed"
      },
      "source": [
        "# First record\n",
        "first_result = results [0]\n",
        "first_result"
      ],
      "execution_count": 11,
      "outputs": [
        {
          "output_type": "execute_result",
          "data": {
            "text/plain": [
              "<span class=\"short-desc\"><strong>Jan. 21 </strong>“I wasn't a fan of Iraq. I didn't want to go into Iraq.” <span class=\"short-truth\"><a href=\"https://www.buzzfeed.com/andrewkaczynski/in-2002-donald-trump-said-he-supported-invading-iraq-on-the\" target=\"_blank\">(He was for an invasion before he was against it.)</a></span></span>"
            ]
          },
          "metadata": {
            "tags": []
          },
          "execution_count": 11
        }
      ]
    },
    {
      "cell_type": "markdown",
      "metadata": {
        "id": "hIBQu6XBA6OM"
      },
      "source": [
        "*In order to locate the date, we can use its find() method to find a single tag that matches a specific pattern, in contrast to the find_all() method we used above to find all tags that match a pattern:*"
      ]
    },
    {
      "cell_type": "code",
      "metadata": {
        "colab": {
          "base_uri": "https://localhost:8080/"
        },
        "id": "GIarxy0BA714",
        "outputId": "34f8b632-c986-4ea6-cfb8-fb2459321a7c"
      },
      "source": [
        "'''This code searches first_result for the first instance of a <strong> tag, \n",
        "and again returns a Beautiful Soup \"Tag\" object (not a string).'''\n",
        "first_result.find ('strong')"
      ],
      "execution_count": 12,
      "outputs": [
        {
          "output_type": "execute_result",
          "data": {
            "text/plain": [
              "<strong>Jan. 21 </strong>"
            ]
          },
          "metadata": {
            "tags": []
          },
          "execution_count": 12
        }
      ]
    },
    {
      "cell_type": "code",
      "metadata": {
        "colab": {
          "base_uri": "https://localhost:8080/",
          "height": 35
        },
        "id": "T14zRW_TBKwP",
        "outputId": "119f2ab7-7db1-48af-f623-59dca5118da0"
      },
      "source": [
        "'''Since we want to extract the text between the opening and closing tags, \n",
        "we can access its text attribute, which does in fact return a regular Python string:'''\n",
        "first_result.find ('strong').text "
      ],
      "execution_count": 13,
      "outputs": [
        {
          "output_type": "execute_result",
          "data": {
            "application/vnd.google.colaboratory.intrinsic+json": {
              "type": "string"
            },
            "text/plain": [
              "'Jan. 21\\xa0'"
            ]
          },
          "metadata": {
            "tags": []
          },
          "execution_count": 13
        }
      ]
    },
    {
      "cell_type": "code",
      "metadata": {
        "colab": {
          "base_uri": "https://localhost:8080/",
          "height": 35
        },
        "id": "2TBfg1BSBu_c",
        "outputId": "bce23a4c-af6d-4351-b8ca-43db31cb1c12"
      },
      "source": [
        "'''xa0 is called an \"escape sequence\" that represents the &nbsp; \n",
        "character we saw earlier in the HTML source.'''\n",
        "# Slice it off from the end of the string\n",
        "first_result.find ('strong').text [0:-1]"
      ],
      "execution_count": 14,
      "outputs": [
        {
          "output_type": "execute_result",
          "data": {
            "application/vnd.google.colaboratory.intrinsic+json": {
              "type": "string"
            },
            "text/plain": [
              "'Jan. 21'"
            ]
          },
          "metadata": {
            "tags": []
          },
          "execution_count": 14
        }
      ]
    },
    {
      "cell_type": "code",
      "metadata": {
        "colab": {
          "base_uri": "https://localhost:8080/",
          "height": 35
        },
        "id": "SZU28A_1CYlF",
        "outputId": "1959f22a-1e02-4898-cd9e-c03e2d9d51de"
      },
      "source": [
        "'''Finally, we're going to add the year, \n",
        "since we don't want our dataset to include ambiguous dates:'''\n",
        "first_result.find ('strong').text [0:-1] + ', 2017' "
      ],
      "execution_count": 15,
      "outputs": [
        {
          "output_type": "execute_result",
          "data": {
            "application/vnd.google.colaboratory.intrinsic+json": {
              "type": "string"
            },
            "text/plain": [
              "'Jan. 21, 2017'"
            ]
          },
          "metadata": {
            "tags": []
          },
          "execution_count": 15
        }
      ]
    },
    {
      "cell_type": "markdown",
      "metadata": {
        "id": "U_mlAYdxDLSU"
      },
      "source": [
        "***EXTRACTING THE LIE***"
      ]
    },
    {
      "cell_type": "code",
      "metadata": {
        "colab": {
          "base_uri": "https://localhost:8080/"
        },
        "id": "qDO1ZnR5DQBO",
        "outputId": "4ab3f708-e787-4623-b3dd-48d20e4f37f7"
      },
      "source": [
        "first_result"
      ],
      "execution_count": 16,
      "outputs": [
        {
          "output_type": "execute_result",
          "data": {
            "text/plain": [
              "<span class=\"short-desc\"><strong>Jan. 21 </strong>“I wasn't a fan of Iraq. I didn't want to go into Iraq.” <span class=\"short-truth\"><a href=\"https://www.buzzfeed.com/andrewkaczynski/in-2002-donald-trump-said-he-supported-invading-iraq-on-the\" target=\"_blank\">(He was for an invasion before he was against it.)</a></span></span>"
            ]
          },
          "metadata": {
            "tags": []
          },
          "execution_count": 16
        }
      ]
    },
    {
      "cell_type": "markdown",
      "metadata": {
        "id": "Bqxf0AW7Dcb2"
      },
      "source": [
        "*Our goal is to extract the two sentences about Iraq. Unfortunately, there isn't a pair of opening and closing tags that starts immediately before the lie and ends immediately after the lie. Therefore, we're going to have to use a different technique :*"
      ]
    },
    {
      "cell_type": "code",
      "metadata": {
        "colab": {
          "base_uri": "https://localhost:8080/"
        },
        "id": "zP3r3cIWDe-d",
        "outputId": "da262dd4-33a5-4252-e077-8cd861556bd8"
      },
      "source": [
        "first_result.contents"
      ],
      "execution_count": 17,
      "outputs": [
        {
          "output_type": "execute_result",
          "data": {
            "text/plain": [
              "[<strong>Jan. 21 </strong>,\n",
              " \"“I wasn't a fan of Iraq. I didn't want to go into Iraq.” \",\n",
              " <span class=\"short-truth\"><a href=\"https://www.buzzfeed.com/andrewkaczynski/in-2002-donald-trump-said-he-supported-invading-iraq-on-the\" target=\"_blank\">(He was for an invasion before he was against it.)</a></span>]"
            ]
          },
          "metadata": {
            "tags": []
          },
          "execution_count": 17
        }
      ]
    },
    {
      "cell_type": "code",
      "metadata": {
        "colab": {
          "base_uri": "https://localhost:8080/",
          "height": 35
        },
        "id": "BQf43CVEDizS",
        "outputId": "8a01288a-7f86-41ef-963d-d0812deda6ed"
      },
      "source": [
        "# Slice the list to extract the 2nd element\n",
        "first_result.contents [1]  # 1 since Python follows zero-indexing"
      ],
      "execution_count": 18,
      "outputs": [
        {
          "output_type": "execute_result",
          "data": {
            "application/vnd.google.colaboratory.intrinsic+json": {
              "type": "string"
            },
            "text/plain": [
              "\"“I wasn't a fan of Iraq. I didn't want to go into Iraq.” \""
            ]
          },
          "metadata": {
            "tags": []
          },
          "execution_count": 18
        }
      ]
    },
    {
      "cell_type": "code",
      "metadata": {
        "colab": {
          "base_uri": "https://localhost:8080/",
          "height": 35
        },
        "id": "BeHUlwViD1xi",
        "outputId": "2da3a69c-3743-4e60-fde9-037dd9b7b58b"
      },
      "source": [
        "'''Finally, we'll slice off the curly quotation marks as well as the extra space at the end:'''\n",
        "first_result.contents [1] [1:-2]"
      ],
      "execution_count": 19,
      "outputs": [
        {
          "output_type": "execute_result",
          "data": {
            "application/vnd.google.colaboratory.intrinsic+json": {
              "type": "string"
            },
            "text/plain": [
              "\"I wasn't a fan of Iraq. I didn't want to go into Iraq.\""
            ]
          },
          "metadata": {
            "tags": []
          },
          "execution_count": 19
        }
      ]
    },
    {
      "cell_type": "markdown",
      "metadata": {
        "id": "NxDHM1mmFRGb"
      },
      "source": [
        "***EXTRACTING THE EXPLANATION***"
      ]
    },
    {
      "cell_type": "code",
      "metadata": {
        "colab": {
          "base_uri": "https://localhost:8080/"
        },
        "id": "y5Hp8aV1FT1T",
        "outputId": "100734cb-3397-4bf0-f056-cef4325f47d7"
      },
      "source": [
        "# The first option is to slice the contents attribute\n",
        "first_result.contents [2]"
      ],
      "execution_count": 20,
      "outputs": [
        {
          "output_type": "execute_result",
          "data": {
            "text/plain": [
              "<span class=\"short-truth\"><a href=\"https://www.buzzfeed.com/andrewkaczynski/in-2002-donald-trump-said-he-supported-invading-iraq-on-the\" target=\"_blank\">(He was for an invasion before he was against it.)</a></span>"
            ]
          },
          "metadata": {
            "tags": []
          },
          "execution_count": 20
        }
      ]
    },
    {
      "cell_type": "code",
      "metadata": {
        "colab": {
          "base_uri": "https://localhost:8080/"
        },
        "id": "7SSAFr08FZwL",
        "outputId": "4fbda2e0-63ac-4c03-96ec-54e86169325e"
      },
      "source": [
        "# The second option is to search for the surrounding tag, like we did when extracting the date:\n",
        "first_result.find ('a')"
      ],
      "execution_count": 21,
      "outputs": [
        {
          "output_type": "execute_result",
          "data": {
            "text/plain": [
              "<a href=\"https://www.buzzfeed.com/andrewkaczynski/in-2002-donald-trump-said-he-supported-invading-iraq-on-the\" target=\"_blank\">(He was for an invasion before he was against it.)</a>"
            ]
          },
          "metadata": {
            "tags": []
          },
          "execution_count": 21
        }
      ]
    },
    {
      "cell_type": "code",
      "metadata": {
        "colab": {
          "base_uri": "https://localhost:8080/",
          "height": 35
        },
        "id": "b9B3Fx2yFv6F",
        "outputId": "857ee685-ea45-4e9c-ed65-50478c00869d"
      },
      "source": [
        "'''Either way, we can access the text attribute and then slice off \n",
        "the opening and closing parentheses:'''\n",
        "first_result.find ('a').text [1:-1]"
      ],
      "execution_count": 22,
      "outputs": [
        {
          "output_type": "execute_result",
          "data": {
            "application/vnd.google.colaboratory.intrinsic+json": {
              "type": "string"
            },
            "text/plain": [
              "'He was for an invasion before he was against it.'"
            ]
          },
          "metadata": {
            "tags": []
          },
          "execution_count": 22
        }
      ]
    },
    {
      "cell_type": "markdown",
      "metadata": {
        "id": "s9X2wauDGMR1"
      },
      "source": [
        "***EXTRACTING THE URL***"
      ]
    },
    {
      "cell_type": "code",
      "metadata": {
        "colab": {
          "base_uri": "https://localhost:8080/"
        },
        "id": "BgqnBNKjGON4",
        "outputId": "70a9f362-772d-4d83-aa03-d3e1c0cab731"
      },
      "source": [
        "'''Extract the URL of the article that substantiates the writer's claim that the President was lying.\n",
        "\n",
        "Let's examine the <a> tag within first_result:'''\n",
        "first_result.find ('a')"
      ],
      "execution_count": 23,
      "outputs": [
        {
          "output_type": "execute_result",
          "data": {
            "text/plain": [
              "<a href=\"https://www.buzzfeed.com/andrewkaczynski/in-2002-donald-trump-said-he-supported-invading-iraq-on-the\" target=\"_blank\">(He was for an invasion before he was against it.)</a>"
            ]
          },
          "metadata": {
            "tags": []
          },
          "execution_count": 23
        }
      ]
    },
    {
      "cell_type": "markdown",
      "metadata": {
        "id": "QQBRquvVGtM-"
      },
      "source": [
        "*In this case, the text we want to extract is located within the tag itself. Specifically, we want to access the value of the href attribute within the <a> tag.\n",
        "\n",
        "Beautiful Soup treats tag attributes and their values like key-value pairs in a dictionary: you put the attribute name in brackets (like a dictionary key), and you get back the attribute's value:*"
      ]
    },
    {
      "cell_type": "code",
      "metadata": {
        "colab": {
          "base_uri": "https://localhost:8080/",
          "height": 35
        },
        "id": "0tbGEufmGipo",
        "outputId": "59341f6d-1b80-4507-d6e9-084d0467688e"
      },
      "source": [
        "first_result.find ('a') ['href']"
      ],
      "execution_count": 24,
      "outputs": [
        {
          "output_type": "execute_result",
          "data": {
            "application/vnd.google.colaboratory.intrinsic+json": {
              "type": "string"
            },
            "text/plain": [
              "'https://www.buzzfeed.com/andrewkaczynski/in-2002-donald-trump-said-he-supported-invading-iraq-on-the'"
            ]
          },
          "metadata": {
            "tags": []
          },
          "execution_count": 24
        }
      ]
    },
    {
      "cell_type": "markdown",
      "metadata": {
        "id": "pBh-AsEfG-Nk"
      },
      "source": [
        "**You can apply these two methods to either the initial soup object or a Tag object (such as first_result):\n",
        "\n",
        "find(): searches for the first matching tag, and returns a Tag object\n",
        "find_all(): searches for all matching tags, and returns a ResultSet object (which you can treat like a list of Tags)\n",
        "You can extract information from a Tag object (such as first_result) using these two attributes:\n",
        "\n",
        "text: extracts the text of a Tag, and returns a string\n",
        "contents: extracts the children of a Tag, and returns a list of Tags and strings**"
      ]
    },
    {
      "cell_type": "markdown",
      "metadata": {
        "id": "wbaOrM3cHD6z"
      },
      "source": [
        "***BUILDING THE DATASET***"
      ]
    },
    {
      "cell_type": "code",
      "metadata": {
        "id": "a3wtSCMqHIUB"
      },
      "source": [
        "# Store the output in the form of empty tuples\n",
        "records = []\n",
        "# Create a loop to repeat the same process of extracting the 4 components on all results\n",
        "# Loop through the results\n",
        "for result in results : \n",
        "  date = result.find('strong').text[0:-1] + ', 2017'\n",
        "  lie = result.contents[1][1:-2]\n",
        "  explanation = result.find('a').text[1:-1]\n",
        "  url = result.find('a')['href'] \n",
        "# Append the results in the records list\n",
        "  records.append ((date,lie,explanation,url))"
      ],
      "execution_count": 25,
      "outputs": []
    },
    {
      "cell_type": "code",
      "metadata": {
        "colab": {
          "base_uri": "https://localhost:8080/"
        },
        "id": "lNOrR8k7I2u0",
        "outputId": "b5c3b1b9-9fa5-452d-9d4c-a2a3d8b2e159"
      },
      "source": [
        "# Since there were 180 results, we should have 180 records\n",
        "len (records)"
      ],
      "execution_count": 26,
      "outputs": [
        {
          "output_type": "execute_result",
          "data": {
            "text/plain": [
              "180"
            ]
          },
          "metadata": {
            "tags": []
          },
          "execution_count": 26
        }
      ]
    },
    {
      "cell_type": "code",
      "metadata": {
        "colab": {
          "base_uri": "https://localhost:8080/"
        },
        "id": "WZFOZRVSI6FJ",
        "outputId": "10ef099a-e6b8-45b1-ff71-96e0c0a4d097"
      },
      "source": [
        "# 1st 3 records\n",
        "records [0:3]"
      ],
      "execution_count": 27,
      "outputs": [
        {
          "output_type": "execute_result",
          "data": {
            "text/plain": [
              "[('Jan. 21, 2017',\n",
              "  \"I wasn't a fan of Iraq. I didn't want to go into Iraq.\",\n",
              "  'He was for an invasion before he was against it.',\n",
              "  'https://www.buzzfeed.com/andrewkaczynski/in-2002-donald-trump-said-he-supported-invading-iraq-on-the'),\n",
              " ('Jan. 21, 2017',\n",
              "  'A reporter for Time magazine — and I have been on their cover 14 or 15 times. I think we have the all-time record in the history of Time magazine.',\n",
              "  'Trump was on the cover 11 times and Nixon appeared 55 times.',\n",
              "  'http://nation.time.com/2013/11/06/10-things-you-didnt-know-about-time/'),\n",
              " ('Jan. 23, 2017',\n",
              "  'Between 3 million and 5 million illegal votes caused me to lose the popular vote.',\n",
              "  \"There's no evidence of illegal voting.\",\n",
              "  'https://www.nytimes.com/2017/01/23/us/politics/donald-trump-congress-democrats.html')]"
            ]
          },
          "metadata": {
            "tags": []
          },
          "execution_count": 27
        }
      ]
    },
    {
      "cell_type": "markdown",
      "metadata": {
        "id": "NK4srfPvJSQo"
      },
      "source": [
        "***APPLYING A TABULAR DATA STRUCTURE***"
      ]
    },
    {
      "cell_type": "markdown",
      "metadata": {
        "id": "5P4_560eJiJE"
      },
      "source": [
        "*The last major step in this process is to apply a tabular data structure to our existing structure (which is a list of tuples). We're going to do this using the pandas library. The primary data structure in pandas is the \"DataFrame\", which is suitable for tabular data with columns of different types.*"
      ]
    },
    {
      "cell_type": "code",
      "metadata": {
        "id": "c4Q-qPdxJsCM"
      },
      "source": [
        "# We can convert our list of tuples into a DataFrame by passing it to the \n",
        "# DataFrame constructor and specifying the desired column names.\n",
        "import pandas as pd\n",
        "df = pd.DataFrame (records, columns = ['date','lie','explanation','url'])"
      ],
      "execution_count": 28,
      "outputs": []
    },
    {
      "cell_type": "code",
      "metadata": {
        "colab": {
          "base_uri": "https://localhost:8080/",
          "height": 195
        },
        "id": "3RMr7bjUKRUv",
        "outputId": "32fdd688-e212-4828-ec80-d196af8fe534"
      },
      "source": [
        "# Top of the DataFrame\n",
        "df.head ()"
      ],
      "execution_count": 29,
      "outputs": [
        {
          "output_type": "execute_result",
          "data": {
            "text/html": [
              "<div>\n",
              "<style scoped>\n",
              "    .dataframe tbody tr th:only-of-type {\n",
              "        vertical-align: middle;\n",
              "    }\n",
              "\n",
              "    .dataframe tbody tr th {\n",
              "        vertical-align: top;\n",
              "    }\n",
              "\n",
              "    .dataframe thead th {\n",
              "        text-align: right;\n",
              "    }\n",
              "</style>\n",
              "<table border=\"1\" class=\"dataframe\">\n",
              "  <thead>\n",
              "    <tr style=\"text-align: right;\">\n",
              "      <th></th>\n",
              "      <th>date</th>\n",
              "      <th>lie</th>\n",
              "      <th>explanation</th>\n",
              "      <th>url</th>\n",
              "    </tr>\n",
              "  </thead>\n",
              "  <tbody>\n",
              "    <tr>\n",
              "      <th>0</th>\n",
              "      <td>Jan. 21, 2017</td>\n",
              "      <td>I wasn't a fan of Iraq. I didn't want to go in...</td>\n",
              "      <td>He was for an invasion before he was against it.</td>\n",
              "      <td>https://www.buzzfeed.com/andrewkaczynski/in-20...</td>\n",
              "    </tr>\n",
              "    <tr>\n",
              "      <th>1</th>\n",
              "      <td>Jan. 21, 2017</td>\n",
              "      <td>A reporter for Time magazine — and I have been...</td>\n",
              "      <td>Trump was on the cover 11 times and Nixon appe...</td>\n",
              "      <td>http://nation.time.com/2013/11/06/10-things-yo...</td>\n",
              "    </tr>\n",
              "    <tr>\n",
              "      <th>2</th>\n",
              "      <td>Jan. 23, 2017</td>\n",
              "      <td>Between 3 million and 5 million illegal votes ...</td>\n",
              "      <td>There's no evidence of illegal voting.</td>\n",
              "      <td>https://www.nytimes.com/2017/01/23/us/politics...</td>\n",
              "    </tr>\n",
              "    <tr>\n",
              "      <th>3</th>\n",
              "      <td>Jan. 25, 2017</td>\n",
              "      <td>Now, the audience was the biggest ever. But th...</td>\n",
              "      <td>Official aerial photos show Obama's 2009 inaug...</td>\n",
              "      <td>https://www.nytimes.com/2017/01/21/us/politics...</td>\n",
              "    </tr>\n",
              "    <tr>\n",
              "      <th>4</th>\n",
              "      <td>Jan. 25, 2017</td>\n",
              "      <td>Take a look at the Pew reports (which show vot...</td>\n",
              "      <td>The report never mentioned voter fraud.</td>\n",
              "      <td>https://www.nytimes.com/2017/01/24/us/politics...</td>\n",
              "    </tr>\n",
              "  </tbody>\n",
              "</table>\n",
              "</div>"
            ],
            "text/plain": [
              "            date  ...                                                url\n",
              "0  Jan. 21, 2017  ...  https://www.buzzfeed.com/andrewkaczynski/in-20...\n",
              "1  Jan. 21, 2017  ...  http://nation.time.com/2013/11/06/10-things-yo...\n",
              "2  Jan. 23, 2017  ...  https://www.nytimes.com/2017/01/23/us/politics...\n",
              "3  Jan. 25, 2017  ...  https://www.nytimes.com/2017/01/21/us/politics...\n",
              "4  Jan. 25, 2017  ...  https://www.nytimes.com/2017/01/24/us/politics...\n",
              "\n",
              "[5 rows x 4 columns]"
            ]
          },
          "metadata": {
            "tags": []
          },
          "execution_count": 29
        }
      ]
    },
    {
      "cell_type": "code",
      "metadata": {
        "colab": {
          "base_uri": "https://localhost:8080/",
          "height": 195
        },
        "id": "zBdGq1xPKdEa",
        "outputId": "6cdc0620-e4b8-45cc-fc36-645c8c3ced56"
      },
      "source": [
        "# Bottom of the DataFrame\n",
        "df.tail ()"
      ],
      "execution_count": 30,
      "outputs": [
        {
          "output_type": "execute_result",
          "data": {
            "text/html": [
              "<div>\n",
              "<style scoped>\n",
              "    .dataframe tbody tr th:only-of-type {\n",
              "        vertical-align: middle;\n",
              "    }\n",
              "\n",
              "    .dataframe tbody tr th {\n",
              "        vertical-align: top;\n",
              "    }\n",
              "\n",
              "    .dataframe thead th {\n",
              "        text-align: right;\n",
              "    }\n",
              "</style>\n",
              "<table border=\"1\" class=\"dataframe\">\n",
              "  <thead>\n",
              "    <tr style=\"text-align: right;\">\n",
              "      <th></th>\n",
              "      <th>date</th>\n",
              "      <th>lie</th>\n",
              "      <th>explanation</th>\n",
              "      <th>url</th>\n",
              "    </tr>\n",
              "  </thead>\n",
              "  <tbody>\n",
              "    <tr>\n",
              "      <th>175</th>\n",
              "      <td>Oct. 25, 2017</td>\n",
              "      <td>We have trade deficits with almost everybody.</td>\n",
              "      <td>We have trade surpluses with more than 100 cou...</td>\n",
              "      <td>https://www.bea.gov/newsreleases/international...</td>\n",
              "    </tr>\n",
              "    <tr>\n",
              "      <th>176</th>\n",
              "      <td>Oct. 27, 2017</td>\n",
              "      <td>Wacky &amp; totally unhinged Tom Steyer, who has b...</td>\n",
              "      <td>Steyer has financially supported many winning ...</td>\n",
              "      <td>https://www.opensecrets.org/donor-lookup/resul...</td>\n",
              "    </tr>\n",
              "    <tr>\n",
              "      <th>177</th>\n",
              "      <td>Nov. 1, 2017</td>\n",
              "      <td>Again, we're the highest-taxed nation, just ab...</td>\n",
              "      <td>We're not.</td>\n",
              "      <td>http://www.politifact.com/truth-o-meter/statem...</td>\n",
              "    </tr>\n",
              "    <tr>\n",
              "      <th>178</th>\n",
              "      <td>Nov. 7, 2017</td>\n",
              "      <td>When you look at the city with the strongest g...</td>\n",
              "      <td>Several other cities, including New York and L...</td>\n",
              "      <td>http://www.politifact.com/truth-o-meter/statem...</td>\n",
              "    </tr>\n",
              "    <tr>\n",
              "      <th>179</th>\n",
              "      <td>Nov. 11, 2017</td>\n",
              "      <td>I'd rather have him  – you know, work with him...</td>\n",
              "      <td>There is no evidence that Democrats \"set up\" R...</td>\n",
              "      <td>https://www.nytimes.com/interactive/2017/12/10...</td>\n",
              "    </tr>\n",
              "  </tbody>\n",
              "</table>\n",
              "</div>"
            ],
            "text/plain": [
              "              date  ...                                                url\n",
              "175  Oct. 25, 2017  ...  https://www.bea.gov/newsreleases/international...\n",
              "176  Oct. 27, 2017  ...  https://www.opensecrets.org/donor-lookup/resul...\n",
              "177   Nov. 1, 2017  ...  http://www.politifact.com/truth-o-meter/statem...\n",
              "178   Nov. 7, 2017  ...  http://www.politifact.com/truth-o-meter/statem...\n",
              "179  Nov. 11, 2017  ...  https://www.nytimes.com/interactive/2017/12/10...\n",
              "\n",
              "[5 rows x 4 columns]"
            ]
          },
          "metadata": {
            "tags": []
          },
          "execution_count": 30
        }
      ]
    },
    {
      "cell_type": "code",
      "metadata": {
        "colab": {
          "base_uri": "https://localhost:8080/",
          "height": 402
        },
        "id": "K8jvkdxQKhC9",
        "outputId": "5b991489-87e8-499d-a41b-2eef4e9d70aa"
      },
      "source": [
        "# Convert the date column to pandas' special \"datetime\" format\n",
        "df['date'] = pd.to_datetime(df['date'])\n",
        "df"
      ],
      "execution_count": 31,
      "outputs": [
        {
          "output_type": "execute_result",
          "data": {
            "text/html": [
              "<div>\n",
              "<style scoped>\n",
              "    .dataframe tbody tr th:only-of-type {\n",
              "        vertical-align: middle;\n",
              "    }\n",
              "\n",
              "    .dataframe tbody tr th {\n",
              "        vertical-align: top;\n",
              "    }\n",
              "\n",
              "    .dataframe thead th {\n",
              "        text-align: right;\n",
              "    }\n",
              "</style>\n",
              "<table border=\"1\" class=\"dataframe\">\n",
              "  <thead>\n",
              "    <tr style=\"text-align: right;\">\n",
              "      <th></th>\n",
              "      <th>date</th>\n",
              "      <th>lie</th>\n",
              "      <th>explanation</th>\n",
              "      <th>url</th>\n",
              "    </tr>\n",
              "  </thead>\n",
              "  <tbody>\n",
              "    <tr>\n",
              "      <th>0</th>\n",
              "      <td>2017-01-21</td>\n",
              "      <td>I wasn't a fan of Iraq. I didn't want to go in...</td>\n",
              "      <td>He was for an invasion before he was against it.</td>\n",
              "      <td>https://www.buzzfeed.com/andrewkaczynski/in-20...</td>\n",
              "    </tr>\n",
              "    <tr>\n",
              "      <th>1</th>\n",
              "      <td>2017-01-21</td>\n",
              "      <td>A reporter for Time magazine — and I have been...</td>\n",
              "      <td>Trump was on the cover 11 times and Nixon appe...</td>\n",
              "      <td>http://nation.time.com/2013/11/06/10-things-yo...</td>\n",
              "    </tr>\n",
              "    <tr>\n",
              "      <th>2</th>\n",
              "      <td>2017-01-23</td>\n",
              "      <td>Between 3 million and 5 million illegal votes ...</td>\n",
              "      <td>There's no evidence of illegal voting.</td>\n",
              "      <td>https://www.nytimes.com/2017/01/23/us/politics...</td>\n",
              "    </tr>\n",
              "    <tr>\n",
              "      <th>3</th>\n",
              "      <td>2017-01-25</td>\n",
              "      <td>Now, the audience was the biggest ever. But th...</td>\n",
              "      <td>Official aerial photos show Obama's 2009 inaug...</td>\n",
              "      <td>https://www.nytimes.com/2017/01/21/us/politics...</td>\n",
              "    </tr>\n",
              "    <tr>\n",
              "      <th>4</th>\n",
              "      <td>2017-01-25</td>\n",
              "      <td>Take a look at the Pew reports (which show vot...</td>\n",
              "      <td>The report never mentioned voter fraud.</td>\n",
              "      <td>https://www.nytimes.com/2017/01/24/us/politics...</td>\n",
              "    </tr>\n",
              "    <tr>\n",
              "      <th>...</th>\n",
              "      <td>...</td>\n",
              "      <td>...</td>\n",
              "      <td>...</td>\n",
              "      <td>...</td>\n",
              "    </tr>\n",
              "    <tr>\n",
              "      <th>175</th>\n",
              "      <td>2017-10-25</td>\n",
              "      <td>We have trade deficits with almost everybody.</td>\n",
              "      <td>We have trade surpluses with more than 100 cou...</td>\n",
              "      <td>https://www.bea.gov/newsreleases/international...</td>\n",
              "    </tr>\n",
              "    <tr>\n",
              "      <th>176</th>\n",
              "      <td>2017-10-27</td>\n",
              "      <td>Wacky &amp; totally unhinged Tom Steyer, who has b...</td>\n",
              "      <td>Steyer has financially supported many winning ...</td>\n",
              "      <td>https://www.opensecrets.org/donor-lookup/resul...</td>\n",
              "    </tr>\n",
              "    <tr>\n",
              "      <th>177</th>\n",
              "      <td>2017-11-01</td>\n",
              "      <td>Again, we're the highest-taxed nation, just ab...</td>\n",
              "      <td>We're not.</td>\n",
              "      <td>http://www.politifact.com/truth-o-meter/statem...</td>\n",
              "    </tr>\n",
              "    <tr>\n",
              "      <th>178</th>\n",
              "      <td>2017-11-07</td>\n",
              "      <td>When you look at the city with the strongest g...</td>\n",
              "      <td>Several other cities, including New York and L...</td>\n",
              "      <td>http://www.politifact.com/truth-o-meter/statem...</td>\n",
              "    </tr>\n",
              "    <tr>\n",
              "      <th>179</th>\n",
              "      <td>2017-11-11</td>\n",
              "      <td>I'd rather have him  – you know, work with him...</td>\n",
              "      <td>There is no evidence that Democrats \"set up\" R...</td>\n",
              "      <td>https://www.nytimes.com/interactive/2017/12/10...</td>\n",
              "    </tr>\n",
              "  </tbody>\n",
              "</table>\n",
              "<p>180 rows × 4 columns</p>\n",
              "</div>"
            ],
            "text/plain": [
              "          date  ...                                                url\n",
              "0   2017-01-21  ...  https://www.buzzfeed.com/andrewkaczynski/in-20...\n",
              "1   2017-01-21  ...  http://nation.time.com/2013/11/06/10-things-yo...\n",
              "2   2017-01-23  ...  https://www.nytimes.com/2017/01/23/us/politics...\n",
              "3   2017-01-25  ...  https://www.nytimes.com/2017/01/21/us/politics...\n",
              "4   2017-01-25  ...  https://www.nytimes.com/2017/01/24/us/politics...\n",
              "..         ...  ...                                                ...\n",
              "175 2017-10-25  ...  https://www.bea.gov/newsreleases/international...\n",
              "176 2017-10-27  ...  https://www.opensecrets.org/donor-lookup/resul...\n",
              "177 2017-11-01  ...  http://www.politifact.com/truth-o-meter/statem...\n",
              "178 2017-11-07  ...  http://www.politifact.com/truth-o-meter/statem...\n",
              "179 2017-11-11  ...  https://www.nytimes.com/interactive/2017/12/10...\n",
              "\n",
              "[180 rows x 4 columns]"
            ]
          },
          "metadata": {
            "tags": []
          },
          "execution_count": 31
        }
      ]
    },
    {
      "cell_type": "markdown",
      "metadata": {
        "id": "LUp_sjwnLDl4"
      },
      "source": [
        "***EXPORTING THE DATASET TO A CSV FILE***"
      ]
    },
    {
      "cell_type": "markdown",
      "metadata": {
        "id": "QYrylmwjLjSm"
      },
      "source": [
        "*We'll use pandas to export the DataFrame to a CSV (comma-separated value) file, which is the simplest and most common way to store tabular data in a text file*"
      ]
    },
    {
      "cell_type": "code",
      "metadata": {
        "id": "sraOusplLIFO"
      },
      "source": [
        "df.to_csv ('trump_lies.csv', index = False, encoding = 'utf-8')"
      ],
      "execution_count": 32,
      "outputs": []
    },
    {
      "cell_type": "code",
      "metadata": {
        "id": "brTKmct8LWFb"
      },
      "source": [
        "# Read the CSV file back into pandas\n",
        "df = pd.read_csv('trump_lies.csv', parse_dates=['date'], encoding='utf-8')"
      ],
      "execution_count": 33,
      "outputs": []
    },
    {
      "cell_type": "code",
      "metadata": {
        "id": "0czlXdRINUNl"
      },
      "source": [
        "# Summary (16 Lines Of Code)\n",
        "\n",
        "# import requests\n",
        "# r = requests.get('https://www.nytimes.com/interactive/2017/06/23/opinion/trumps-lies.html')\n",
        "\n",
        "# from bs4 import BeautifulSoup\n",
        "# soup = BeautifulSoup(r.text, 'html.parser')\n",
        "# results = soup.find_all('span', attrs={'class':'short-desc'})\n",
        "\n",
        "# records = []\n",
        "# for result in results:\n",
        "#     date = result.find('strong').text[0:-1] + ', 2017'\n",
        "#     lie = result.contents[1][1:-2]\n",
        "#     explanation = result.find('a').text[1:-1]\n",
        "#     url = result.find('a')['href']\n",
        "#     records.append((date, lie, explanation, url))\n",
        "\n",
        "# import pandas as pd\n",
        "# df = pd.DataFrame(records, columns=['date', 'lie', 'explanation', 'url'])\n",
        "# df['date'] = pd.to_datetime(df['date'])\n",
        "# df.to_csv('trump_lies.csv', index=False, encoding='utf-8')"
      ],
      "execution_count": 34,
      "outputs": []
    }
  ]
}