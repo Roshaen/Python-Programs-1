{
  "nbformat": 4,
  "nbformat_minor": 0,
  "metadata": {
    "colab": {
      "name": "GUESS THE NUMBER.ipynb",
      "provenance": [],
      "collapsed_sections": [],
      "authorship_tag": "ABX9TyOqkRVxpnyLmztDmcxgvBst",
      "include_colab_link": true
    },
    "kernelspec": {
      "name": "python3",
      "display_name": "Python 3"
    },
    "language_info": {
      "name": "python"
    }
  },
  "cells": [
    {
      "cell_type": "markdown",
      "metadata": {
        "id": "view-in-github",
        "colab_type": "text"
      },
      "source": [
        "<a href=\"https://colab.research.google.com/github/Swayms-stack/Basic-Python-Programs/blob/master/GUESS_THE_NUMBER.ipynb\" target=\"_parent\"><img src=\"https://colab.research.google.com/assets/colab-badge.svg\" alt=\"Open In Colab\"/></a>"
      ]
    },
    {
      "cell_type": "markdown",
      "metadata": {
        "id": "mY3RBooEevpI"
      },
      "source": [
        "***# Number Guessing Game***"
      ]
    },
    {
      "cell_type": "code",
      "metadata": {
        "id": "92InjsQkiHIY"
      },
      "source": [
        "''' Steps \n",
        "1. Import the random module.\n",
        "2. Ask the user's name.\n",
        "3. Greet the user and specify the number range.\n",
        "4. Use the randint() method (from the random module) which returns an integer number selected element from the specified range.\n",
        "4. Intialize the start and end range of the number.\n",
        "5. Use for loop to specify the number of guesses allowed.\n",
        "6. Guess the number as middle of the search space.\n",
        "7. If the number guessed is correct, then print Good Job and terminate the program.\n",
        "8. If the guess is wrong, inform the user that guessed number is less or higher than the guessed number. \n",
        "9. If the user used all the guesses and couldn't answer correctly, reveal the correct answer and inform the number of guesses taken.'''"
      ],
      "execution_count": null,
      "outputs": []
    },
    {
      "cell_type": "code",
      "metadata": {
        "id": "1zRWwDSnexMc"
      },
      "source": [
        "# Import random module\n",
        "import random\n",
        "\n",
        "# User Name\n",
        "user = input('What is your name ? ')\n",
        "# Greet\n",
        "print ('Hello ' + user + ' I am thinking of a number between 1 & 30')\n",
        "secret_number = random.randint (1, 30)\n",
        "\n",
        "# Take user's guess\n",
        "for Guess in range (1,6) :\n",
        "    print ('Take a guess ')\n",
        "    guess = int(input ())\n",
        "    \n",
        "# If - else condition (only for wrong guesses)\n",
        "    if  guess > secret_number :\n",
        "        print ('Too High')\n",
        "    elif  guess < secret_number :\n",
        "        print ('Too Low')\n",
        "    else :\n",
        "        break\n",
        "# In case of a correct guess (print the number of guesses taken)\n",
        "if guess == secret_number :\n",
        "    print ('Good Job ! You took ' + str(Guess) + ' guesses')\n",
        "# In case the user couldn't guess correctly and used all guesses, reveal the answer\n",
        "else :\n",
        "    print ('No more guesses left ' + str(secret_number))"
      ],
      "execution_count": null,
      "outputs": []
    },
    {
      "cell_type": "code",
      "metadata": {
        "id": "BkxcsPuMe2rn"
      },
      "source": [
        ""
      ],
      "execution_count": null,
      "outputs": []
    }
  ]
}