{
  "nbformat": 4,
  "nbformat_minor": 0,
  "metadata": {
    "colab": {
      "name": "GUESS THE NUMBER.ipynb",
      "provenance": [],
      "collapsed_sections": [],
      "authorship_tag": "ABX9TyOHzLm6rAEBsOy7/SZDDiMD",
      "include_colab_link": true
    },
    "kernelspec": {
      "name": "python3",
      "display_name": "Python 3"
    },
    "language_info": {
      "name": "python"
    }
  },
  "cells": [
    {
      "cell_type": "markdown",
      "metadata": {
        "id": "view-in-github",
        "colab_type": "text"
      },
      "source": [
        "<a href=\"https://colab.research.google.com/github/Swayms-stack/Basic-Python-Programs/blob/master/GUESS_THE_NUMBER.ipynb\" target=\"_parent\"><img src=\"https://colab.research.google.com/assets/colab-badge.svg\" alt=\"Open In Colab\"/></a>"
      ]
    },
    {
      "cell_type": "markdown",
      "metadata": {
        "id": "mY3RBooEevpI"
      },
      "source": [
        "***# Number Guessing Game***"
      ]
    },
    {
      "cell_type": "code",
      "metadata": {
        "id": "1zRWwDSnexMc"
      },
      "source": [
        "# Import random module\n",
        "import random\n",
        "\n",
        "# User Name\n",
        "user = input('What is your name ? ')\n",
        "# Greet\n",
        "print ('Hello ' + user + ' I am thinking of a number between 1 & 30')\n",
        "secret_number = random.randint (1, 30)\n",
        "\n",
        "# Take user's guess\n",
        "for Guess in range (1,6) :\n",
        "    print ('Take a guess ')\n",
        "    guess = int(input ())\n",
        "    \n",
        "# If - else condition (only for wrong guesses)\n",
        "    if  guess > secret_number :\n",
        "        print ('Too High')\n",
        "    elif  guess < secret_number :\n",
        "        print ('Too Low')\n",
        "    else :\n",
        "        break\n",
        "# In case of a correct guess (print the number of guesses taken)\n",
        "if guess == secret_number :\n",
        "    print ('Good Job ! You took ' + str(Guess) + ' guesses')\n",
        "# In case the user couldn't guess correctly and used all guesses, reveal the answer\n",
        "else :\n",
        "    print ('No more guesses left ' + str(secret_number))"
      ],
      "execution_count": null,
      "outputs": []
    },
    {
      "cell_type": "code",
      "metadata": {
        "id": "BkxcsPuMe2rn"
      },
      "source": [
        ""
      ],
      "execution_count": null,
      "outputs": []
    }
  ]
}